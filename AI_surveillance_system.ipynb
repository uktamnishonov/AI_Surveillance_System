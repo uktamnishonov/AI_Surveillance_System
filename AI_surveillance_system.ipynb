{
  "cells": [
    {
      "cell_type": "code",
      "execution_count": null,
      "metadata": {
        "colab": {
          "base_uri": "https://localhost:8080/"
        },
        "id": "dY60SQZ0nN0O",
        "outputId": "dba3e6af-2d3a-44de-c7cc-eb4655107a22"
      },
      "outputs": [
        {
          "output_type": "stream",
          "name": "stdout",
          "text": [
            "Path to dataset files: /root/.cache/kagglehub/datasets/msambare/fer2013/versions/1\n"
          ]
        }
      ],
      "source": [
        "import kagglehub\n",
        "\n",
        "# Download latest version\n",
        "path = kagglehub.dataset_download(\"msambare/fer2013\")\n",
        "\n",
        "print(\"Path to dataset files:\", path)"
      ]
    },
    {
      "cell_type": "code",
      "execution_count": null,
      "metadata": {
        "id": "2sdyHborn7yo"
      },
      "outputs": [],
      "source": [
        "dataset_path = \"/root/.cache/kagglehub/datasets/msambare/fer2013/versions/1\"\n",
        "\n",
        "classes = ['angry' , 'disgust' , 'fear', 'happy', 'neutral', 'sad', 'surprise']\n"
      ]
    },
    {
      "cell_type": "code",
      "source": [
        "import torch\n",
        "from torch.utils.data import Dataset, DataLoader\n",
        "from torchvision import datasets, transforms, models\n",
        "from torchvision.datasets import ImageFolder\n",
        "from torch import nn, optim\n",
        "from torch.utils.data import random_split\n",
        "import os\n",
        "from PIL import Image"
      ],
      "metadata": {
        "id": "BIbEMYzwo6Ko"
      },
      "execution_count": null,
      "outputs": []
    },
    {
      "cell_type": "code",
      "execution_count": null,
      "metadata": {
        "id": "lZ_FR1BFoHP5"
      },
      "outputs": [],
      "source": [
        "class ExpressionDataset(Dataset):\n",
        "    def __init__(self, root_dir, classes, transform=None):\n",
        "        self.root_dir = root_dir\n",
        "        self.classes = classes\n",
        "        self.transform = transform\n",
        "        self.image_paths = []\n",
        "        self.labels = []\n",
        "\n",
        "        for label, class_name in enumerate(classes):\n",
        "            class_dir = os.path.join(root_dir, class_name)\n",
        "            for img_name in os.listdir(class_dir):  # Loop through the images inside the class folder\n",
        "                img_path = os.path.join(class_dir, img_name)  # Full path to the image\n",
        "                self.image_paths.append(img_path)  # Add the image path to the list\n",
        "                self.labels.append(label)\n",
        "\n",
        "    def __len__(self):\n",
        "        \"\"\"Return the total number of samples\"\"\"\n",
        "        return len(self.image_paths)\n",
        "\n",
        "    def __getitem__(self, idx):\n",
        "        image_path = self.image_paths[idx]\n",
        "        image = Image.open(image_path).convert('RGB')\n",
        "        label = self.labels[idx]\n",
        "\n",
        "        if self.transform:\n",
        "            image = self.transform(image)\n",
        "\n",
        "        return image, label\n"
      ]
    },
    {
      "cell_type": "code",
      "execution_count": null,
      "metadata": {
        "id": "BiKNwydZoLhX"
      },
      "outputs": [],
      "source": [
        "from torchvision import transforms\n",
        "\n",
        "transform = transforms.Compose([\n",
        "    transforms.Resize(256),  # Resize the image to 256x256 (after augmentations)\n",
        "    transforms.CenterCrop(224),  # Crop to 224x224\n",
        "    transforms.ToTensor(),  # Convert the image to a tensor\n",
        "    transforms.Normalize(  # Normalize with ImageNet mean and std\n",
        "        mean=[0.485, 0.456, 0.406],  # ImageNet mean\n",
        "        std=[0.229, 0.224, 0.225]  # ImageNet std\n",
        "    )\n",
        "])\n",
        "\n",
        "train_root = os.path.join(dataset_path, 'train')\n",
        "test_root = os.path.join(dataset_path, 'test')\n",
        "\n",
        "train_dataset = ExpressionDataset(train_root, classes, transform=transform)\n",
        "test_dataset = ExpressionDataset(test_root, classes, transform=transform)\n",
        "\n",
        "train_loader = DataLoader(train_dataset, batch_size=32, shuffle=True)\n",
        "test_loader = DataLoader(test_dataset, batch_size=32, shuffle=False)"
      ]
    },
    {
      "cell_type": "code",
      "execution_count": null,
      "metadata": {
        "id": "SEt8UyZ1oPih",
        "colab": {
          "base_uri": "https://localhost:8080/"
        },
        "outputId": "9aaeef58-978b-4f1d-ffc0-6b3d165d8600"
      },
      "outputs": [
        {
          "output_type": "stream",
          "name": "stderr",
          "text": [
            "/usr/local/lib/python3.10/dist-packages/torchvision/models/_utils.py:208: UserWarning: The parameter 'pretrained' is deprecated since 0.13 and may be removed in the future, please use 'weights' instead.\n",
            "  warnings.warn(\n",
            "/usr/local/lib/python3.10/dist-packages/torchvision/models/_utils.py:223: UserWarning: Arguments other than a weight enum or `None` for 'weights' are deprecated since 0.13 and may be removed in the future. The current behavior is equivalent to passing `weights=ResNet50_Weights.IMAGENET1K_V1`. You can also use `weights=ResNet50_Weights.DEFAULT` to get the most up-to-date weights.\n",
            "  warnings.warn(msg)\n",
            "Downloading: \"https://download.pytorch.org/models/resnet50-0676ba61.pth\" to /root/.cache/torch/hub/checkpoints/resnet50-0676ba61.pth\n",
            "100%|██████████| 97.8M/97.8M [00:00<00:00, 123MB/s]\n"
          ]
        }
      ],
      "source": [
        "\n",
        "model = models.resnet50(pretrained=True)\n",
        "model.fc = nn.Sequential(\n",
        "    nn.Dropout(0.3),  # Dropout layer with 30% probability\n",
        "    nn.Linear(model.fc.in_features, 7)  # Final classification layer for 7 classes\n",
        ")\n",
        "\n",
        "# Move the model to GPU (if available)\n",
        "device = torch.device(\"cuda\" if torch.cuda.is_available() else \"cpu\")\n",
        "model = model.to(device)\n",
        "\n"
      ]
    },
    {
      "cell_type": "code",
      "execution_count": null,
      "metadata": {
        "id": "-etyIkGWkSd8"
      },
      "outputs": [],
      "source": [
        "# Define the loss function and optimizer\n",
        "criterion = nn.CrossEntropyLoss()  # For multi-class classification\n",
        "optimizer = optim.Adam(model.parameters(), lr=1e-4)\n",
        "\n",
        "\n",
        "# Training function\n",
        "def train_model(model, train_loader, criterion, optimizer, device, num_epochs):\n",
        "    model.train()  # Set the model to training mode\n",
        "    for epoch in range(num_epochs):\n",
        "        running_loss = 0.0\n",
        "        correct = 0\n",
        "        total = 0\n",
        "\n",
        "        for inputs, labels in train_loader:\n",
        "            # Move data to the selected device (GPU or CPU)\n",
        "            inputs, labels = inputs.to(device), labels.to(device)\n",
        "\n",
        "            # Zero the gradients\n",
        "            optimizer.zero_grad()\n",
        "\n",
        "            # Forward pass\n",
        "            outputs = model(inputs)\n",
        "            loss = criterion(outputs, labels)\n",
        "\n",
        "            # Backward pass and optimization\n",
        "            loss.backward()\n",
        "            optimizer.step()\n",
        "\n",
        "            # Calculate statistics for logging\n",
        "            running_loss += loss.item()\n",
        "\n",
        "            _, predicted = outputs.max(1)  # Get the class with the highest score\n",
        "            correct += (predicted == labels).sum().item()\n",
        "            total += labels.size(0)\n",
        "\n",
        "        epoch_loss = running_loss / len(train_loader)\n",
        "        epoch_accuracy = correct / total * 100\n",
        "        print(f'Epoch [{epoch+1}/{num_epochs}], Loss: {epoch_loss:.4f}, Accuracy: {epoch_accuracy:.2f}%')\n",
        "\n",
        "    print(\"Training complete.\")\n"
      ]
    },
    {
      "cell_type": "code",
      "source": [
        "import torch\n",
        "from torch.nn.functional import softmax\n",
        "\n",
        "def test_model(model, test_loader, device):\n",
        "    \"\"\"\n",
        "    Evaluate the model on the test dataset.\n",
        "\n",
        "    Parameters:\n",
        "        model (torch.nn.Module): The trained PyTorch model.\n",
        "        test_loader (DataLoader): DataLoader for the test dataset.\n",
        "        device (torch.device): The device to perform computations on (CPU or GPU).\n",
        "\n",
        "    Returns:\n",
        "        float: The accuracy of the model on the test dataset.\n",
        "    \"\"\"\n",
        "    model.to(device)\n",
        "    model.eval()  # Set model to evaluation mode\n",
        "    correct = 0\n",
        "    total = 0\n",
        "\n",
        "    with torch.no_grad():  # Disable gradient calculation for inference\n",
        "        for images, labels in test_loader:\n",
        "            images, labels = images.to(device), labels.to(device)\n",
        "            outputs = model(images)\n",
        "            _, predicted = torch.max(outputs, 1)  # Get the index of the max log-probability\n",
        "            total += labels.size(0)\n",
        "            correct += (predicted == labels).sum().item()\n",
        "\n",
        "    accuracy = 100 * correct / total\n",
        "    print(f\"Test Accuracy: {accuracy:.2f}%\")\n",
        "    return accuracy\n"
      ],
      "metadata": {
        "id": "0aEY3u48RdDy"
      },
      "execution_count": null,
      "outputs": []
    },
    {
      "cell_type": "code",
      "execution_count": null,
      "metadata": {
        "id": "TUWXW__Focp7"
      },
      "outputs": [],
      "source": [
        "from sklearn.metrics import classification_report, confusion_matrix\n",
        "\n",
        "def evaluate_model(model, test_loader, device, cat_names):\n",
        "    \"\"\"\n",
        "    Evaluate the model on the test data and print classification report and confusion matrix.\n",
        "\n",
        "    Parameters:\n",
        "    - model: The trained model\n",
        "    - test_loader: The DataLoader for the test dataset\n",
        "    - device: The device (CPU or GPU) on which the model is running\n",
        "    - cat_names: List of category names (e.g., ['angry', 'happy', ...])\n",
        "    \"\"\"\n",
        "    all_labels = []\n",
        "    all_preds = []\n",
        "\n",
        "    model.eval()  # Set the model to evaluation mode\n",
        "\n",
        "    # No need to compute gradients during evaluation\n",
        "    with torch.no_grad():\n",
        "        for images, labels in test_loader:\n",
        "            # Move the images and labels to the same device as the model (GPU or CPU)\n",
        "            images, labels = images.to(device), labels.to(device)\n",
        "\n",
        "            # Forward pass: Get model outputs\n",
        "            outputs = model(images)\n",
        "\n",
        "            # Get the predicted class by taking the index with the highest probability\n",
        "            _, predicted = torch.max(outputs, 1)\n",
        "\n",
        "            # Collect the true labels and predicted labels for later evaluation\n",
        "            all_labels.extend(labels.cpu().numpy())\n",
        "            all_preds.extend(predicted.cpu().numpy())\n",
        "\n",
        "    # Print classification report and confusion matrix\n",
        "    print(\"\\nClassification Report:\")\n",
        "    print(classification_report(all_labels, all_preds, target_names=classes))\n",
        "\n",
        "    print(\"\\nConfusion Matrix:\")\n",
        "    print(confusion_matrix(all_labels, all_preds))\n",
        "\n"
      ]
    },
    {
      "cell_type": "code",
      "execution_count": null,
      "metadata": {
        "id": "CV4-8HUNy7xm"
      },
      "outputs": [],
      "source": [
        "# Function to save the model\n",
        "def save_model(model, path='expression_model.pth'):\n",
        "    torch.save(model.state_dict(), path)\n",
        "    print(f'Model saved to {path}')\n"
      ]
    },
    {
      "cell_type": "code",
      "execution_count": null,
      "metadata": {
        "id": "WDWgnMTBzOVc"
      },
      "outputs": [],
      "source": [
        "# Train the model\n",
        "num_epochs = 10\n",
        "train_model(model, train_loader, criterion, optimizer, device, num_epochs)\n",
        "\n",
        "# Test the model\n",
        "test_model(model, test_loader, device)\n",
        "\n",
        "evaluate_model(model, test_loader, device, classes)\n",
        "\n",
        "# Save the model after training\n",
        "save_model(model)\n"
      ]
    },
    {
      "cell_type": "code",
      "source": [],
      "metadata": {
        "id": "XifiBqwd0UXx"
      },
      "execution_count": null,
      "outputs": []
    }
  ],
  "metadata": {
    "accelerator": "GPU",
    "colab": {
      "gpuType": "T4",
      "provenance": []
    },
    "kernelspec": {
      "display_name": "Python 3",
      "name": "python3"
    },
    "language_info": {
      "name": "python"
    }
  },
  "nbformat": 4,
  "nbformat_minor": 0
}